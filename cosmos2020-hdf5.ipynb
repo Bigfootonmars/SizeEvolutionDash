{
 "cells": [
  {
   "cell_type": "markdown",
   "id": "1fbc4027",
   "metadata": {},
   "source": [
    "# HDF5 viewer for large C2020 catalog\n",
    "\n",
    "I reran the photozs on Feb. 9 including **inflating the uncertainties in the four IRAC bands by a factor of 5**, witt output files with root `COSMOS2020_FARMER_R1_v2.1`.   This required a virtual compute machine on Amazon Web Services with > 100 Gb of memory!\n",
    "\n",
    "At the same time I added functionality to the `eazy-py` repository to make saving and recovering the state of an EAZY run more robust using `HDF5` files.  At least for just plotting SEDs, there is now a function to do this using the `HDF5` product directly rather than reading the huge arrays into memory.\n",
    "\n",
    "The products are available at \n",
    "\n",
    "https://erda.ku.dk/vgrid/Gabriel%20Brammer/C2020/Farmer2.0/COSMOS2020_FARMER_R1_v2.1.hdf5\n",
    "https://erda.ku.dk/vgrid/Gabriel%20Brammer/C2020/Farmer2.0/COSMOS2020_FARMER_R1_v2.1.zout.fits\n",
    "\n",
    "You can now plot the SEDs *with just the HDF5 file* as shown below."
   ]
  },
  {
   "cell_type": "code",
   "execution_count": 2,
   "id": "8c79ce25",
   "metadata": {},
   "outputs": [],
   "source": [
    "import os\n",
    "# Running on Erda\n",
    "os.chdir('/Users/claus/Documents/jupyter/research/Cosmos2021/')\n",
    "# Available through https://erda.ku.dk/vgrid/Gabriel%20Brammer/C2020/Farmer2.0/"
   ]
  },
  {
   "cell_type": "code",
   "execution_count": 2,
   "id": "2306e85a",
   "metadata": {},
   "outputs": [
    {
     "name": "stderr",
     "output_type": "stream",
     "text": [
      "Der Befehl \"ls\" ist entweder falsch geschrieben oder\n",
      "konnte nicht gefunden werden.\n"
     ]
    }
   ],
   "source": [
    "! ls -lh *v2.1* templates/"
   ]
  },
  {
   "cell_type": "code",
   "execution_count": 5,
   "id": "d81b856a",
   "metadata": {},
   "outputs": [],
   "source": [
    "import eazy\n",
    "#if not os.path.exists('FILTER.RES.latest'):\n",
    "#    data_path = os.path.join(os.path.dirname(eazy.__file__), 'data')\n",
    "#    ! copy {data_path}/filters/FILTER.RES.latest . "
   ]
  },
  {
   "cell_type": "code",
   "execution_count": 6,
   "id": "d19cd1ba",
   "metadata": {},
   "outputs": [
    {
     "ename": "ModuleNotFoundError",
     "evalue": "No module named 'eazy.hdf5'",
     "output_type": "error",
     "traceback": [
      "\u001b[1;31m---------------------------------------------------------------------------\u001b[0m",
      "\u001b[1;31mModuleNotFoundError\u001b[0m                       Traceback (most recent call last)",
      "\u001b[1;32m~\\AppData\\Local\\Temp/ipykernel_4204/2085830489.py\u001b[0m in \u001b[0;36m<module>\u001b[1;34m\u001b[0m\n\u001b[1;32m----> 1\u001b[1;33m \u001b[1;32mimport\u001b[0m \u001b[0meazy\u001b[0m\u001b[1;33m.\u001b[0m\u001b[0mhdf5\u001b[0m\u001b[1;33m\u001b[0m\u001b[1;33m\u001b[0m\u001b[0m\n\u001b[0m\u001b[0;32m      2\u001b[0m \u001b[0mvis\u001b[0m \u001b[1;33m=\u001b[0m \u001b[0meazy\u001b[0m\u001b[1;33m.\u001b[0m\u001b[0mhdf5\u001b[0m\u001b[1;33m.\u001b[0m\u001b[0mViewer\u001b[0m\u001b[1;33m(\u001b[0m\u001b[1;34m'COSMOS2020_FARMER_R1_v2.1.hdf5'\u001b[0m\u001b[1;33m,\u001b[0m \u001b[0mverbose\u001b[0m\u001b[1;33m=\u001b[0m\u001b[1;32mFalse\u001b[0m\u001b[1;33m)\u001b[0m\u001b[1;33m\u001b[0m\u001b[1;33m\u001b[0m\u001b[0m\n",
      "\u001b[1;31mModuleNotFoundError\u001b[0m: No module named 'eazy.hdf5'"
     ]
    }
   ],
   "source": [
    "import eazy.hdf5\n",
    "vis = eazy.hdf5.Viewer('COSMOS2020_FARMER_R1_v2.1.hdf5', verbose=False)"
   ]
  },
  {
   "cell_type": "code",
   "execution_count": 5,
   "id": "2130fb15",
   "metadata": {},
   "outputs": [
    {
     "name": "stdout",
     "output_type": "stream",
     "text": [
      "<Table length=964506>\n",
      "       name         dtype  format\n",
      "------------------ ------- ------\n",
      "                id   int64       \n",
      "                ra float64    .6f\n",
      "               dec float64    .6f\n",
      "            z_spec float64    .5f\n",
      "   CFHT_ustar_FLUX float32    .3f\n",
      "CFHT_ustar_FLUXERR float32    .3f\n",
      "       CFHT_u_FLUX float32    .3f\n",
      "    CFHT_u_FLUXERR float32    .3f\n",
      "        HSC_g_FLUX float32    .3f\n",
      "     HSC_g_FLUXERR float32    .3f\n",
      "        HSC_r_FLUX float32    .3f\n",
      "     HSC_r_FLUXERR float32    .3f\n",
      "        HSC_i_FLUX float32    .3f\n",
      "     HSC_i_FLUXERR float32    .3f\n",
      "        HSC_z_FLUX float32    .3f\n",
      "     HSC_z_FLUXERR float32    .3f\n",
      "        HSC_y_FLUX float32    .3f\n",
      "     HSC_y_FLUXERR float32    .3f\n",
      "    UVISTA_Ks_FLUX float32    .3f\n",
      " UVISTA_Ks_FLUXERR float32    .3f\n",
      "     UVISTA_Y_FLUX float32    .3f\n",
      "  UVISTA_Y_FLUXERR float32    .3f\n",
      "     UVISTA_H_FLUX float32    .3f\n",
      "  UVISTA_H_FLUXERR float32    .3f\n",
      "     UVISTA_J_FLUX float32    .3f\n",
      "  UVISTA_J_FLUXERR float32    .3f\n",
      "     IRAC_CH1_FLUX float32    .3f\n",
      "  IRAC_CH1_FLUXERR float32    .3f\n",
      "     IRAC_CH2_FLUX float32    .3f\n",
      "  IRAC_CH2_FLUXERR float32    .3f\n",
      "     IRAC_CH3_FLUX float32    .3f\n",
      "  IRAC_CH3_FLUXERR float32    .3f\n",
      "     IRAC_CH4_FLUX float32    .3f\n",
      "  IRAC_CH4_FLUXERR float32    .3f\n",
      "     SC_IB427_FLUX float32    .3f\n",
      "  SC_IB427_FLUXERR float32    .3f\n",
      "     SC_IB464_FLUX float32    .3f\n",
      "  SC_IB464_FLUXERR float32    .3f\n",
      "     SC_IA484_FLUX float32    .3f\n",
      "  SC_IA484_FLUXERR float32    .3f\n",
      "     SC_IB505_FLUX float32    .3f\n",
      "  SC_IB505_FLUXERR float32    .3f\n",
      "     SC_IA527_FLUX float32    .3f\n",
      "  SC_IA527_FLUXERR float32    .3f\n",
      "     SC_IB574_FLUX float32    .3f\n",
      "  SC_IB574_FLUXERR float32    .3f\n",
      "     SC_IA624_FLUX float32    .3f\n",
      "  SC_IA624_FLUXERR float32    .3f\n",
      "     SC_IA679_FLUX float32    .3f\n",
      "  SC_IA679_FLUXERR float32    .3f\n",
      "     SC_IB709_FLUX float32    .3f\n",
      "  SC_IB709_FLUXERR float32    .3f\n",
      "     SC_IA738_FLUX float32    .3f\n",
      "  SC_IA738_FLUXERR float32    .3f\n",
      "     SC_IA767_FLUX float32    .3f\n",
      "  SC_IA767_FLUXERR float32    .3f\n",
      "     SC_IB827_FLUX float32    .3f\n",
      "  SC_IB827_FLUXERR float32    .3f\n"
     ]
    }
   ],
   "source": [
    "# Reformatted catalog from hdf5\n",
    "# This will require some memory, so it could \n",
    "# be useful to add some functionality to eazy.hdf5 to pull out individual columns\n",
    "cat = vis.get_catalog()\n",
    "cat.info()"
   ]
  },
  {
   "cell_type": "code",
   "execution_count": 6,
   "id": "e38eaef2",
   "metadata": {},
   "outputs": [
    {
     "name": "stderr",
     "output_type": "stream",
     "text": [
      "<ipython-input-6-175a4ea01d39>:4: RuntimeWarning: invalid value encountered in log10\n",
      "  kmag = 23.9 - 2.5*np.log10(cat['UVISTA_Ks_FLUX']*vis.to_uJy)\n"
     ]
    }
   ],
   "source": [
    "import numpy as np\n",
    "\n",
    "# Quick selection\n",
    "kmag = 23.9 - 2.5*np.log10(cat['UVISTA_Ks_FLUX']*vis.to_uJy)\n",
    "\n",
    "sample = (cat['z_spec'] > 0.2) & (cat['z_spec'] < 4) & (kmag < 22)\n",
    "\n",
    "ids = cat['id'][sample]\n",
    "i = -1"
   ]
  },
  {
   "cell_type": "code",
   "execution_count": 8,
   "id": "1ffe8899",
   "metadata": {},
   "outputs": [
    {
     "data": {
      "image/png": "[encoded data removed]",
      "text/plain": [
       "<Figure size 576x288 with 2 Axes>"
      ]
     },
     "metadata": {
      "needs_background": "light"
     },
     "output_type": "display_data"
    }
   ],
   "source": [
    "i = 6\n",
    "_ = vis.show_fit(ids[i], show_fnu=False)"
   ]
  },
  {
   "cell_type": "code",
   "execution_count": 11,
   "id": "7443df58",
   "metadata": {},
   "outputs": [
    {
     "name": "stdout",
     "output_type": "stream",
     "text": [
      "0.5.2\n"
     ]
    }
   ],
   "source": [
    "print(eazy.__version__)"
   ]
  },
  {
   "cell_type": "code",
   "execution_count": 12,
   "id": "3bfa760e-4178-4880-b63c-dd1a89e339c8",
   "metadata": {},
   "outputs": [
    {
     "ename": "AttributeError",
     "evalue": "module 'eazy' has no attribute 'hdf5'",
     "output_type": "error",
     "traceback": [
      "\u001b[1;31m---------------------------------------------------------------------------\u001b[0m",
      "\u001b[1;31mAttributeError\u001b[0m                            Traceback (most recent call last)",
      "\u001b[1;32m~\\AppData\\Local\\Temp/ipykernel_4204/1979581709.py\u001b[0m in \u001b[0;36m<module>\u001b[1;34m\u001b[0m\n\u001b[1;32m----> 1\u001b[1;33m \u001b[0mcatalog\u001b[0m \u001b[1;33m=\u001b[0m \u001b[0meazy\u001b[0m\u001b[1;33m.\u001b[0m\u001b[0mhdf5\u001b[0m\u001b[1;33m.\u001b[0m\u001b[0mcat_from_hdf5\u001b[0m\u001b[1;33m(\u001b[0m\u001b[1;34m'COSMOS2020_FARMER_R1_v2.1.hdf5'\u001b[0m\u001b[1;33m)\u001b[0m\u001b[1;33m\u001b[0m\u001b[1;33m\u001b[0m\u001b[0m\n\u001b[0m",
      "\u001b[1;31mAttributeError\u001b[0m: module 'eazy' has no attribute 'hdf5'"
     ]
    }
   ],
   "source": [
    "catalog = eazy.hdf5.cat_from_hdf5('COSMOS2020_FARMER_R1_v2.1.hdf5')"
   ]
  },
  {
   "cell_type": "code",
   "execution_count": null,
   "id": "d52d5347-5c16-434c-b898-6e273e3d7833",
   "metadata": {},
   "outputs": [],
   "source": []
  }
 ],
 "metadata": {
  "kernelspec": {
   "display_name": "Python 3 (ipykernel)",
   "language": "python",
   "name": "python3"
  },
  "language_info": {
   "codemirror_mode": {
    "name": "ipython",
    "version": 3
   },
   "file_extension": ".py",
   "mimetype": "text/x-python",
   "name": "python",
   "nbconvert_exporter": "python",
   "pygments_lexer": "ipython3",
   "version": "3.9.7"
  }
 },
 "nbformat": 4,
 "nbformat_minor": 5
}
